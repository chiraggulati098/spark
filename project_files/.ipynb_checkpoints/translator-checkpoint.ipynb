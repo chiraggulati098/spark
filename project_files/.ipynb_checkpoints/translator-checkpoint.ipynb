{
 "cells": [
  {
   "cell_type": "code",
   "execution_count": 1,
   "id": "9ca1690d-47d0-4465-869c-56f7b16f291a",
   "metadata": {},
   "outputs": [
    {
     "name": "stdout",
     "output_type": "stream",
     "text": [
      "Requirement already satisfied: deep-translator in c:\\users\\chira\\anaconda3\\lib\\site-packages (1.11.4)\n",
      "Requirement already satisfied: beautifulsoup4<5.0.0,>=4.9.1 in c:\\users\\chira\\anaconda3\\lib\\site-packages (from deep-translator) (4.12.2)\n",
      "Requirement already satisfied: requests<3.0.0,>=2.23.0 in c:\\users\\chira\\anaconda3\\lib\\site-packages (from deep-translator) (2.31.0)\n",
      "Requirement already satisfied: soupsieve>1.2 in c:\\users\\chira\\anaconda3\\lib\\site-packages (from beautifulsoup4<5.0.0,>=4.9.1->deep-translator) (2.5)\n",
      "Requirement already satisfied: charset-normalizer<4,>=2 in c:\\users\\chira\\anaconda3\\lib\\site-packages (from requests<3.0.0,>=2.23.0->deep-translator) (2.0.4)\n",
      "Requirement already satisfied: idna<4,>=2.5 in c:\\users\\chira\\anaconda3\\lib\\site-packages (from requests<3.0.0,>=2.23.0->deep-translator) (2.10)\n",
      "Requirement already satisfied: urllib3<3,>=1.21.1 in c:\\users\\chira\\anaconda3\\lib\\site-packages (from requests<3.0.0,>=2.23.0->deep-translator) (2.0.7)\n",
      "Requirement already satisfied: certifi>=2017.4.17 in c:\\users\\chira\\anaconda3\\lib\\site-packages (from requests<3.0.0,>=2.23.0->deep-translator) (2024.2.2)\n"
     ]
    },
    {
     "name": "stderr",
     "output_type": "stream",
     "text": [
      "DEPRECATION: pytorch-lightning 1.5.10 has a non-standard dependency specifier torch>=1.7.*. pip 23.3 will enforce this behaviour change. A possible replacement is to upgrade to a newer version of pytorch-lightning or contact the author to suggest that they release a version with a conforming dependency specifiers. Discussion can be found at https://github.com/pypa/pip/issues/12063\n"
     ]
    }
   ],
   "source": [
    "!pip install -U deep-translator"
   ]
  },
  {
   "cell_type": "code",
   "execution_count": 2,
   "id": "9671728c-1b64-49f0-992f-6c8377510639",
   "metadata": {},
   "outputs": [],
   "source": [
    "from deep_translator import GoogleTranslator"
   ]
  },
  {
   "cell_type": "code",
   "execution_count": 3,
   "id": "aa42bd42-06a2-4087-81c2-8f47cb162432",
   "metadata": {},
   "outputs": [
    {
     "data": {
      "text/plain": [
       "['afrikaans',\n",
       " 'albanian',\n",
       " 'amharic',\n",
       " 'arabic',\n",
       " 'armenian',\n",
       " 'assamese',\n",
       " 'aymara',\n",
       " 'azerbaijani',\n",
       " 'bambara',\n",
       " 'basque',\n",
       " 'belarusian',\n",
       " 'bengali',\n",
       " 'bhojpuri',\n",
       " 'bosnian',\n",
       " 'bulgarian',\n",
       " 'catalan',\n",
       " 'cebuano',\n",
       " 'chichewa',\n",
       " 'chinese (simplified)',\n",
       " 'chinese (traditional)',\n",
       " 'corsican',\n",
       " 'croatian',\n",
       " 'czech',\n",
       " 'danish',\n",
       " 'dhivehi',\n",
       " 'dogri',\n",
       " 'dutch',\n",
       " 'english',\n",
       " 'esperanto',\n",
       " 'estonian',\n",
       " 'ewe',\n",
       " 'filipino',\n",
       " 'finnish',\n",
       " 'french',\n",
       " 'frisian',\n",
       " 'galician',\n",
       " 'georgian',\n",
       " 'german',\n",
       " 'greek',\n",
       " 'guarani',\n",
       " 'gujarati',\n",
       " 'haitian creole',\n",
       " 'hausa',\n",
       " 'hawaiian',\n",
       " 'hebrew',\n",
       " 'hindi',\n",
       " 'hmong',\n",
       " 'hungarian',\n",
       " 'icelandic',\n",
       " 'igbo',\n",
       " 'ilocano',\n",
       " 'indonesian',\n",
       " 'irish',\n",
       " 'italian',\n",
       " 'japanese',\n",
       " 'javanese',\n",
       " 'kannada',\n",
       " 'kazakh',\n",
       " 'khmer',\n",
       " 'kinyarwanda',\n",
       " 'konkani',\n",
       " 'korean',\n",
       " 'krio',\n",
       " 'kurdish (kurmanji)',\n",
       " 'kurdish (sorani)',\n",
       " 'kyrgyz',\n",
       " 'lao',\n",
       " 'latin',\n",
       " 'latvian',\n",
       " 'lingala',\n",
       " 'lithuanian',\n",
       " 'luganda',\n",
       " 'luxembourgish',\n",
       " 'macedonian',\n",
       " 'maithili',\n",
       " 'malagasy',\n",
       " 'malay',\n",
       " 'malayalam',\n",
       " 'maltese',\n",
       " 'maori',\n",
       " 'marathi',\n",
       " 'meiteilon (manipuri)',\n",
       " 'mizo',\n",
       " 'mongolian',\n",
       " 'myanmar',\n",
       " 'nepali',\n",
       " 'norwegian',\n",
       " 'odia (oriya)',\n",
       " 'oromo',\n",
       " 'pashto',\n",
       " 'persian',\n",
       " 'polish',\n",
       " 'portuguese',\n",
       " 'punjabi',\n",
       " 'quechua',\n",
       " 'romanian',\n",
       " 'russian',\n",
       " 'samoan',\n",
       " 'sanskrit',\n",
       " 'scots gaelic',\n",
       " 'sepedi',\n",
       " 'serbian',\n",
       " 'sesotho',\n",
       " 'shona',\n",
       " 'sindhi',\n",
       " 'sinhala',\n",
       " 'slovak',\n",
       " 'slovenian',\n",
       " 'somali',\n",
       " 'spanish',\n",
       " 'sundanese',\n",
       " 'swahili',\n",
       " 'swedish',\n",
       " 'tajik',\n",
       " 'tamil',\n",
       " 'tatar',\n",
       " 'telugu',\n",
       " 'thai',\n",
       " 'tigrinya',\n",
       " 'tsonga',\n",
       " 'turkish',\n",
       " 'turkmen',\n",
       " 'twi',\n",
       " 'ukrainian',\n",
       " 'urdu',\n",
       " 'uyghur',\n",
       " 'uzbek',\n",
       " 'vietnamese',\n",
       " 'welsh',\n",
       " 'xhosa',\n",
       " 'yiddish',\n",
       " 'yoruba',\n",
       " 'zulu']"
      ]
     },
     "execution_count": 3,
     "metadata": {},
     "output_type": "execute_result"
    }
   ],
   "source": [
    "GoogleTranslator().get_supported_languages()"
   ]
  },
  {
   "cell_type": "code",
   "execution_count": 4,
   "id": "a71c25aa-d81c-45e3-bbfb-1f55d1d8c47d",
   "metadata": {},
   "outputs": [
    {
     "data": {
      "text/plain": [
       "'नमस्ते, मेरा नाम चिराग गुलाटी है'"
      ]
     },
     "execution_count": 4,
     "metadata": {},
     "output_type": "execute_result"
    }
   ],
   "source": [
    "GoogleTranslator(source='english', target='hindi').translate(\"Hello, my name is Chirag Gulati\")"
   ]
  },
  {
   "cell_type": "code",
   "execution_count": null,
   "id": "ca83a65e-0987-4546-97c1-f3474a8e1c5a",
   "metadata": {},
   "outputs": [],
   "source": []
  }
 ],
 "metadata": {
  "kernelspec": {
   "display_name": "Python 3 (ipykernel)",
   "language": "python",
   "name": "python3"
  },
  "language_info": {
   "codemirror_mode": {
    "name": "ipython",
    "version": 3
   },
   "file_extension": ".py",
   "mimetype": "text/x-python",
   "name": "python",
   "nbconvert_exporter": "python",
   "pygments_lexer": "ipython3",
   "version": "3.11.5"
  }
 },
 "nbformat": 4,
 "nbformat_minor": 5
}
