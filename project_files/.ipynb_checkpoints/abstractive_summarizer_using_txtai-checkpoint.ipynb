{
 "cells": [
  {
   "cell_type": "code",
   "execution_count": null,
   "id": "48262659-bd77-415c-9ed1-b7b9a9ac0905",
   "metadata": {},
   "outputs": [],
   "source": [
    "!pip install txtai"
   ]
  },
  {
   "cell_type": "code",
   "execution_count": 1,
   "id": "59f80b38-453d-4f37-9877-29fbc261f424",
   "metadata": {},
   "outputs": [],
   "source": [
    "from txtai.pipeline import Summary"
   ]
  },
  {
   "cell_type": "code",
   "execution_count": 4,
   "id": "40106cc8-53fc-4b78-adf0-72ba02ea5872",
   "metadata": {},
   "outputs": [
    {
     "name": "stderr",
     "output_type": "stream",
     "text": [
      "No model was supplied, defaulted to sshleifer/distilbart-cnn-12-6 and revision a4f8f3e (https://huggingface.co/sshleifer/distilbart-cnn-12-6).\n",
      "Using a pipeline without specifying a model name and revision in production is not recommended.\n"
     ]
    },
    {
     "name": "stdout",
     "output_type": "stream",
     "text": [
      "WARNING:tensorflow:From C:\\Users\\chira\\anaconda3\\Lib\\site-packages\\tf_keras\\src\\losses.py:2976: The name tf.losses.sparse_softmax_cross_entropy is deprecated. Please use tf.compat.v1.losses.sparse_softmax_cross_entropy instead.\n",
      "\n"
     ]
    },
    {
     "data": {
      "application/vnd.jupyter.widget-view+json": {
       "model_id": "088dbb7555e24a2b9db7eb20b0e6f7bf",
       "version_major": 2,
       "version_minor": 0
      },
      "text/plain": [
       "pytorch_model.bin:   0%|          | 0.00/1.22G [00:00<?, ?B/s]"
      ]
     },
     "metadata": {},
     "output_type": "display_data"
    },
    {
     "data": {
      "application/vnd.jupyter.widget-view+json": {
       "model_id": "f6709f2c5b114a71a03e9e5cc3ef5e47",
       "version_major": 2,
       "version_minor": 0
      },
      "text/plain": [
       "tokenizer_config.json:   0%|          | 0.00/26.0 [00:00<?, ?B/s]"
      ]
     },
     "metadata": {},
     "output_type": "display_data"
    },
    {
     "data": {
      "application/vnd.jupyter.widget-view+json": {
       "model_id": "8cdb3b163b19483cb410c23edce5de83",
       "version_major": 2,
       "version_minor": 0
      },
      "text/plain": [
       "vocab.json:   0%|          | 0.00/899k [00:00<?, ?B/s]"
      ]
     },
     "metadata": {},
     "output_type": "display_data"
    },
    {
     "data": {
      "application/vnd.jupyter.widget-view+json": {
       "model_id": "c8e6575ee6d846548f7dff6cbd3372cc",
       "version_major": 2,
       "version_minor": 0
      },
      "text/plain": [
       "merges.txt:   0%|          | 0.00/456k [00:00<?, ?B/s]"
      ]
     },
     "metadata": {},
     "output_type": "display_data"
    }
   ],
   "source": [
    "summary = Summary()"
   ]
  },
  {
   "cell_type": "code",
   "execution_count": 9,
   "id": "8f19958d-a5ad-4ef3-b15c-0ae402bce1f5",
   "metadata": {},
   "outputs": [],
   "source": [
    "text = \"\"\"\n",
    "Virtual reality (VR) technology has rapidly gained traction in the field of education, transforming the way students learn and engage with course materials. VR offers immersive experiences that allow learners to step into realistic simulations, historical settings, or even microscopic worlds, enhancing their understanding and retention of complex concepts. One of the key advantages of VR in education is its ability to cater to different learning styles. Visual learners benefit from lifelike graphics and interactive 3D models, while kinesthetic learners can actively participate in simulations and experiments. This personalized approach to learning not only improves comprehension but also fosters curiosity and creativity among students. Moreover, VR eliminates geographical barriers, enabling students from around the world to collaborate and learn together in virtual environments. This global connectivity promotes cultural exchange and a deeper appreciation for diversity, preparing students for the interconnected nature of the modern workforce. Educators are also leveraging VR for specialized training in fields such as medicine, engineering, and aviation. Medical students can practice surgical procedures in a risk-free virtual environment, engineers can simulate complex designs before production, and pilots can undergo realistic flight training without leaving the ground. Despite these advancements, challenges remain, including the cost of VR equipment and the need for specialized technical support. However, as VR technology becomes more accessible and affordable, its potential to revolutionize education on a global scale continues to expand. In conclusion, the rise of virtual reality in education represents a paradigm shift in teaching and learning methodologies. By providing immersive, interactive, and personalized experiences, VR is poised to reshape the educational landscape and empower students with the skills they need to succeed in the 21st century.\n",
    "\"\"\""
   ]
  },
  {
   "cell_type": "code",
   "execution_count": 10,
   "id": "80d34672-4b40-411a-aef2-df7b2c1e4954",
   "metadata": {},
   "outputs": [],
   "source": [
    "text = (text)"
   ]
  },
  {
   "cell_type": "code",
   "execution_count": 11,
   "id": "2d44347a-9925-4ce4-ad2e-565cb459e77f",
   "metadata": {},
   "outputs": [
    {
     "name": "stdout",
     "output_type": "stream",
     "text": [
      "Virtual reality (VR) technology has rapidly gained traction in the field of education. VR offers immersive experiences that allow learners to step into realistic simulations, historical settings, or even microscopic worlds. Educators are also leveraging VR for specialized training in fields such as medicine, engineering, and aviation.\n"
     ]
    }
   ],
   "source": [
    "print(summary(text))"
   ]
  },
  {
   "cell_type": "code",
   "execution_count": null,
   "id": "6b42f88e-2973-4cf3-a8dd-0d760f278baf",
   "metadata": {},
   "outputs": [],
   "source": []
  }
 ],
 "metadata": {
  "kernelspec": {
   "display_name": "Python 3 (ipykernel)",
   "language": "python",
   "name": "python3"
  },
  "language_info": {
   "codemirror_mode": {
    "name": "ipython",
    "version": 3
   },
   "file_extension": ".py",
   "mimetype": "text/x-python",
   "name": "python",
   "nbconvert_exporter": "python",
   "pygments_lexer": "ipython3",
   "version": "3.11.5"
  }
 },
 "nbformat": 4,
 "nbformat_minor": 5
}
