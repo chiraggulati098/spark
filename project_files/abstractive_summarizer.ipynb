{
 "cells": [
  {
   "cell_type": "code",
   "execution_count": 1,
   "id": "1f317674-333d-41a6-a7ef-7b4f92f4177f",
   "metadata": {},
   "outputs": [
    {
     "name": "stdout",
     "output_type": "stream",
     "text": [
      "Requirement already satisfied: simplet5 in c:\\users\\chira\\anaconda3\\lib\\site-packages (0.1.4)\n",
      "Requirement already satisfied: numpy in c:\\users\\chira\\anaconda3\\lib\\site-packages (from simplet5) (1.26.3)\n",
      "Requirement already satisfied: pandas in c:\\users\\chira\\anaconda3\\lib\\site-packages (from simplet5) (2.1.4)\n",
      "Requirement already satisfied: sentencepiece in c:\\users\\chira\\anaconda3\\lib\\site-packages (from simplet5) (0.2.0)\n",
      "Requirement already satisfied: torch!=1.8.0,>=1.7.0 in c:\\users\\chira\\anaconda3\\lib\\site-packages (from simplet5) (2.2.2)\n",
      "Requirement already satisfied: transformers==4.16.2 in c:\\users\\chira\\anaconda3\\lib\\site-packages (from simplet5) (4.16.2)\n",
      "Requirement already satisfied: pytorch-lightning==1.5.10 in c:\\users\\chira\\anaconda3\\lib\\site-packages (from simplet5) (1.5.10)\n",
      "Requirement already satisfied: future>=0.17.1 in c:\\users\\chira\\anaconda3\\lib\\site-packages (from pytorch-lightning==1.5.10->simplet5) (0.18.3)\n",
      "Requirement already satisfied: tqdm>=4.41.0 in c:\\users\\chira\\anaconda3\\lib\\site-packages (from pytorch-lightning==1.5.10->simplet5) (4.65.0)\n",
      "Requirement already satisfied: PyYAML>=5.1 in c:\\users\\chira\\anaconda3\\lib\\site-packages (from pytorch-lightning==1.5.10->simplet5) (6.0.1)\n",
      "Requirement already satisfied: fsspec[http]!=2021.06.0,>=2021.05.0 in c:\\users\\chira\\anaconda3\\lib\\site-packages (from pytorch-lightning==1.5.10->simplet5) (2023.10.0)\n",
      "Requirement already satisfied: tensorboard>=2.2.0 in c:\\users\\chira\\anaconda3\\lib\\site-packages (from pytorch-lightning==1.5.10->simplet5) (2.16.2)\n",
      "Requirement already satisfied: torchmetrics>=0.4.1 in c:\\users\\chira\\anaconda3\\lib\\site-packages (from pytorch-lightning==1.5.10->simplet5) (1.3.2)\n",
      "Requirement already satisfied: pyDeprecate==0.3.1 in c:\\users\\chira\\anaconda3\\lib\\site-packages (from pytorch-lightning==1.5.10->simplet5) (0.3.1)\n",
      "Requirement already satisfied: packaging>=17.0 in c:\\users\\chira\\anaconda3\\lib\\site-packages (from pytorch-lightning==1.5.10->simplet5) (23.1)\n",
      "Requirement already satisfied: typing-extensions in c:\\users\\chira\\anaconda3\\lib\\site-packages (from pytorch-lightning==1.5.10->simplet5) (4.9.0)\n",
      "Requirement already satisfied: setuptools==59.5.0 in c:\\users\\chira\\anaconda3\\lib\\site-packages (from pytorch-lightning==1.5.10->simplet5) (59.5.0)\n",
      "Requirement already satisfied: filelock in c:\\users\\chira\\anaconda3\\lib\\site-packages (from transformers==4.16.2->simplet5) (3.13.1)\n",
      "Requirement already satisfied: huggingface-hub<1.0,>=0.1.0 in c:\\users\\chira\\anaconda3\\lib\\site-packages (from transformers==4.16.2->simplet5) (0.22.2)\n",
      "Requirement already satisfied: regex!=2019.12.17 in c:\\users\\chira\\anaconda3\\lib\\site-packages (from transformers==4.16.2->simplet5) (2023.10.3)\n",
      "Requirement already satisfied: requests in c:\\users\\chira\\anaconda3\\lib\\site-packages (from transformers==4.16.2->simplet5) (2.31.0)\n",
      "Requirement already satisfied: sacremoses in c:\\users\\chira\\anaconda3\\lib\\site-packages (from transformers==4.16.2->simplet5) (0.1.1)\n",
      "Requirement already satisfied: tokenizers!=0.11.3,>=0.10.1 in c:\\users\\chira\\anaconda3\\lib\\site-packages (from transformers==4.16.2->simplet5) (0.13.3)\n",
      "Requirement already satisfied: sympy in c:\\users\\chira\\anaconda3\\lib\\site-packages (from torch!=1.8.0,>=1.7.0->simplet5) (1.12)\n",
      "Requirement already satisfied: networkx in c:\\users\\chira\\anaconda3\\lib\\site-packages (from torch!=1.8.0,>=1.7.0->simplet5) (3.1)\n",
      "Requirement already satisfied: jinja2 in c:\\users\\chira\\anaconda3\\lib\\site-packages (from torch!=1.8.0,>=1.7.0->simplet5) (3.1.3)\n",
      "Requirement already satisfied: python-dateutil>=2.8.2 in c:\\users\\chira\\anaconda3\\lib\\site-packages (from pandas->simplet5) (2.8.2)\n",
      "Requirement already satisfied: pytz>=2020.1 in c:\\users\\chira\\anaconda3\\lib\\site-packages (from pandas->simplet5) (2023.3.post1)\n",
      "Requirement already satisfied: tzdata>=2022.1 in c:\\users\\chira\\anaconda3\\lib\\site-packages (from pandas->simplet5) (2023.3)\n",
      "Requirement already satisfied: aiohttp!=4.0.0a0,!=4.0.0a1 in c:\\users\\chira\\anaconda3\\lib\\site-packages (from fsspec[http]!=2021.06.0,>=2021.05.0->pytorch-lightning==1.5.10->simplet5) (3.9.3)\n",
      "Requirement already satisfied: six>=1.5 in c:\\users\\chira\\anaconda3\\lib\\site-packages (from python-dateutil>=2.8.2->pandas->simplet5) (1.16.0)\n",
      "Requirement already satisfied: absl-py>=0.4 in c:\\users\\chira\\anaconda3\\lib\\site-packages (from tensorboard>=2.2.0->pytorch-lightning==1.5.10->simplet5) (2.1.0)\n",
      "Requirement already satisfied: grpcio>=1.48.2 in c:\\users\\chira\\anaconda3\\lib\\site-packages (from tensorboard>=2.2.0->pytorch-lightning==1.5.10->simplet5) (1.62.1)\n",
      "Requirement already satisfied: markdown>=2.6.8 in c:\\users\\chira\\anaconda3\\lib\\site-packages (from tensorboard>=2.2.0->pytorch-lightning==1.5.10->simplet5) (3.4.1)\n",
      "Requirement already satisfied: protobuf!=4.24.0,>=3.19.6 in c:\\users\\chira\\anaconda3\\lib\\site-packages (from tensorboard>=2.2.0->pytorch-lightning==1.5.10->simplet5) (4.25.3)\n",
      "Requirement already satisfied: tensorboard-data-server<0.8.0,>=0.7.0 in c:\\users\\chira\\anaconda3\\lib\\site-packages (from tensorboard>=2.2.0->pytorch-lightning==1.5.10->simplet5) (0.7.2)\n",
      "Requirement already satisfied: werkzeug>=1.0.1 in c:\\users\\chira\\anaconda3\\lib\\site-packages (from tensorboard>=2.2.0->pytorch-lightning==1.5.10->simplet5) (2.2.3)\n",
      "Requirement already satisfied: lightning-utilities>=0.8.0 in c:\\users\\chira\\anaconda3\\lib\\site-packages (from torchmetrics>=0.4.1->pytorch-lightning==1.5.10->simplet5) (0.11.2)\n",
      "Requirement already satisfied: colorama in c:\\users\\chira\\anaconda3\\lib\\site-packages (from tqdm>=4.41.0->pytorch-lightning==1.5.10->simplet5) (0.4.6)\n",
      "Requirement already satisfied: MarkupSafe>=2.0 in c:\\users\\chira\\anaconda3\\lib\\site-packages (from jinja2->torch!=1.8.0,>=1.7.0->simplet5) (2.1.3)\n",
      "Requirement already satisfied: charset-normalizer<4,>=2 in c:\\users\\chira\\anaconda3\\lib\\site-packages (from requests->transformers==4.16.2->simplet5) (2.0.4)\n",
      "Requirement already satisfied: idna<4,>=2.5 in c:\\users\\chira\\anaconda3\\lib\\site-packages (from requests->transformers==4.16.2->simplet5) (3.4)\n",
      "Requirement already satisfied: urllib3<3,>=1.21.1 in c:\\users\\chira\\anaconda3\\lib\\site-packages (from requests->transformers==4.16.2->simplet5) (2.0.7)\n",
      "Requirement already satisfied: certifi>=2017.4.17 in c:\\users\\chira\\anaconda3\\lib\\site-packages (from requests->transformers==4.16.2->simplet5) (2024.2.2)\n",
      "Requirement already satisfied: click in c:\\users\\chira\\anaconda3\\lib\\site-packages (from sacremoses->transformers==4.16.2->simplet5) (8.1.7)\n",
      "Requirement already satisfied: joblib in c:\\users\\chira\\anaconda3\\lib\\site-packages (from sacremoses->transformers==4.16.2->simplet5) (1.2.0)\n",
      "Requirement already satisfied: mpmath>=0.19 in c:\\users\\chira\\anaconda3\\lib\\site-packages (from sympy->torch!=1.8.0,>=1.7.0->simplet5) (1.3.0)\n",
      "Requirement already satisfied: aiosignal>=1.1.2 in c:\\users\\chira\\anaconda3\\lib\\site-packages (from aiohttp!=4.0.0a0,!=4.0.0a1->fsspec[http]!=2021.06.0,>=2021.05.0->pytorch-lightning==1.5.10->simplet5) (1.2.0)\n",
      "Requirement already satisfied: attrs>=17.3.0 in c:\\users\\chira\\anaconda3\\lib\\site-packages (from aiohttp!=4.0.0a0,!=4.0.0a1->fsspec[http]!=2021.06.0,>=2021.05.0->pytorch-lightning==1.5.10->simplet5) (23.2.0)\n",
      "Requirement already satisfied: frozenlist>=1.1.1 in c:\\users\\chira\\anaconda3\\lib\\site-packages (from aiohttp!=4.0.0a0,!=4.0.0a1->fsspec[http]!=2021.06.0,>=2021.05.0->pytorch-lightning==1.5.10->simplet5) (1.4.0)\n",
      "Requirement already satisfied: multidict<7.0,>=4.5 in c:\\users\\chira\\anaconda3\\lib\\site-packages (from aiohttp!=4.0.0a0,!=4.0.0a1->fsspec[http]!=2021.06.0,>=2021.05.0->pytorch-lightning==1.5.10->simplet5) (6.0.4)\n",
      "Requirement already satisfied: yarl<2.0,>=1.0 in c:\\users\\chira\\anaconda3\\lib\\site-packages (from aiohttp!=4.0.0a0,!=4.0.0a1->fsspec[http]!=2021.06.0,>=2021.05.0->pytorch-lightning==1.5.10->simplet5) (1.9.3)\n"
     ]
    },
    {
     "name": "stderr",
     "output_type": "stream",
     "text": [
      "DEPRECATION: pytorch-lightning 1.5.10 has a non-standard dependency specifier torch>=1.7.*. pip 23.3 will enforce this behaviour change. A possible replacement is to upgrade to a newer version of pytorch-lightning or contact the author to suggest that they release a version with a conforming dependency specifiers. Discussion can be found at https://github.com/pypa/pip/issues/12063\n"
     ]
    }
   ],
   "source": [
    "!pip install --upgrade simplet5"
   ]
  },
  {
   "cell_type": "code",
   "execution_count": 2,
   "id": "f5113d51-427d-44dc-9006-849ecb51d27e",
   "metadata": {},
   "outputs": [],
   "source": [
    "import numpy as np\n",
    "import pandas as pd\n",
    "from sklearn.model_selection import train_test_split"
   ]
  },
  {
   "cell_type": "code",
   "execution_count": 5,
   "id": "0677ca78-b269-4b92-b86c-0cbe888fa064",
   "metadata": {},
   "outputs": [],
   "source": [
    "df = pd.read_csv('./datasets/bbc_news_summary/bbc_news_data.csv', usecols=[\"input\",\"target\"])"
   ]
  },
  {
   "cell_type": "code",
   "execution_count": 6,
   "id": "9f080295-612e-4d5b-9041-0b0578224ce0",
   "metadata": {},
   "outputs": [
    {
     "data": {
      "text/html": [
       "<div>\n",
       "<style scoped>\n",
       "    .dataframe tbody tr th:only-of-type {\n",
       "        vertical-align: middle;\n",
       "    }\n",
       "\n",
       "    .dataframe tbody tr th {\n",
       "        vertical-align: top;\n",
       "    }\n",
       "\n",
       "    .dataframe thead th {\n",
       "        text-align: right;\n",
       "    }\n",
       "</style>\n",
       "<table border=\"1\" class=\"dataframe\">\n",
       "  <thead>\n",
       "    <tr style=\"text-align: right;\">\n",
       "      <th></th>\n",
       "      <th>input</th>\n",
       "      <th>target</th>\n",
       "    </tr>\n",
       "  </thead>\n",
       "  <tbody>\n",
       "    <tr>\n",
       "      <th>0</th>\n",
       "      <td>summarize: Ad sales boost Time Warner profit\\r...</td>\n",
       "      <td>TimeWarner said fourth quarter sales rose 2% t...</td>\n",
       "    </tr>\n",
       "    <tr>\n",
       "      <th>1</th>\n",
       "      <td>summarize: Dollar gains on Greenspan speech\\r\\...</td>\n",
       "      <td>The dollar has hit its highest level against t...</td>\n",
       "    </tr>\n",
       "    <tr>\n",
       "      <th>2</th>\n",
       "      <td>summarize: Yukos unit buyer faces loan claim\\r...</td>\n",
       "      <td>Yukos' owner Menatep Group says it will ask Ro...</td>\n",
       "    </tr>\n",
       "    <tr>\n",
       "      <th>3</th>\n",
       "      <td>summarize: High fuel prices hit BA's profits\\r...</td>\n",
       "      <td>Rod Eddington, BA's chief executive, said the ...</td>\n",
       "    </tr>\n",
       "    <tr>\n",
       "      <th>4</th>\n",
       "      <td>summarize: Pernod takeover talk lifts Domecq\\r...</td>\n",
       "      <td>Pernod has reduced the debt it took on to fund...</td>\n",
       "    </tr>\n",
       "  </tbody>\n",
       "</table>\n",
       "</div>"
      ],
      "text/plain": [
       "                                               input  \\\n",
       "0  summarize: Ad sales boost Time Warner profit\\r...   \n",
       "1  summarize: Dollar gains on Greenspan speech\\r\\...   \n",
       "2  summarize: Yukos unit buyer faces loan claim\\r...   \n",
       "3  summarize: High fuel prices hit BA's profits\\r...   \n",
       "4  summarize: Pernod takeover talk lifts Domecq\\r...   \n",
       "\n",
       "                                              target  \n",
       "0  TimeWarner said fourth quarter sales rose 2% t...  \n",
       "1  The dollar has hit its highest level against t...  \n",
       "2  Yukos' owner Menatep Group says it will ask Ro...  \n",
       "3  Rod Eddington, BA's chief executive, said the ...  \n",
       "4  Pernod has reduced the debt it took on to fund...  "
      ]
     },
     "execution_count": 6,
     "metadata": {},
     "output_type": "execute_result"
    }
   ],
   "source": [
    "df.head()"
   ]
  },
  {
   "cell_type": "code",
   "execution_count": 7,
   "id": "9350d17f-e09e-48f7-9f9e-8507b7bd48fc",
   "metadata": {},
   "outputs": [],
   "source": [
    "df = df.rename(columns={\"input\":\"source_text\",\"target\":\"target_text\"})"
   ]
  },
  {
   "cell_type": "code",
   "execution_count": 8,
   "id": "d4136f12-7607-4dc2-a66c-52ae88152256",
   "metadata": {},
   "outputs": [
    {
     "data": {
      "text/html": [
       "<div>\n",
       "<style scoped>\n",
       "    .dataframe tbody tr th:only-of-type {\n",
       "        vertical-align: middle;\n",
       "    }\n",
       "\n",
       "    .dataframe tbody tr th {\n",
       "        vertical-align: top;\n",
       "    }\n",
       "\n",
       "    .dataframe thead th {\n",
       "        text-align: right;\n",
       "    }\n",
       "</style>\n",
       "<table border=\"1\" class=\"dataframe\">\n",
       "  <thead>\n",
       "    <tr style=\"text-align: right;\">\n",
       "      <th></th>\n",
       "      <th>source_text</th>\n",
       "      <th>target_text</th>\n",
       "    </tr>\n",
       "  </thead>\n",
       "  <tbody>\n",
       "    <tr>\n",
       "      <th>0</th>\n",
       "      <td>summarize: Ad sales boost Time Warner profit\\r...</td>\n",
       "      <td>TimeWarner said fourth quarter sales rose 2% t...</td>\n",
       "    </tr>\n",
       "    <tr>\n",
       "      <th>1</th>\n",
       "      <td>summarize: Dollar gains on Greenspan speech\\r\\...</td>\n",
       "      <td>The dollar has hit its highest level against t...</td>\n",
       "    </tr>\n",
       "    <tr>\n",
       "      <th>2</th>\n",
       "      <td>summarize: Yukos unit buyer faces loan claim\\r...</td>\n",
       "      <td>Yukos' owner Menatep Group says it will ask Ro...</td>\n",
       "    </tr>\n",
       "    <tr>\n",
       "      <th>3</th>\n",
       "      <td>summarize: High fuel prices hit BA's profits\\r...</td>\n",
       "      <td>Rod Eddington, BA's chief executive, said the ...</td>\n",
       "    </tr>\n",
       "    <tr>\n",
       "      <th>4</th>\n",
       "      <td>summarize: Pernod takeover talk lifts Domecq\\r...</td>\n",
       "      <td>Pernod has reduced the debt it took on to fund...</td>\n",
       "    </tr>\n",
       "  </tbody>\n",
       "</table>\n",
       "</div>"
      ],
      "text/plain": [
       "                                         source_text  \\\n",
       "0  summarize: Ad sales boost Time Warner profit\\r...   \n",
       "1  summarize: Dollar gains on Greenspan speech\\r\\...   \n",
       "2  summarize: Yukos unit buyer faces loan claim\\r...   \n",
       "3  summarize: High fuel prices hit BA's profits\\r...   \n",
       "4  summarize: Pernod takeover talk lifts Domecq\\r...   \n",
       "\n",
       "                                         target_text  \n",
       "0  TimeWarner said fourth quarter sales rose 2% t...  \n",
       "1  The dollar has hit its highest level against t...  \n",
       "2  Yukos' owner Menatep Group says it will ask Ro...  \n",
       "3  Rod Eddington, BA's chief executive, said the ...  \n",
       "4  Pernod has reduced the debt it took on to fund...  "
      ]
     },
     "execution_count": 8,
     "metadata": {},
     "output_type": "execute_result"
    }
   ],
   "source": [
    "df.head()"
   ]
  },
  {
   "cell_type": "code",
   "execution_count": 10,
   "id": "d8d06163-6ebd-4c35-8116-516f8e56ca0d",
   "metadata": {},
   "outputs": [
    {
     "data": {
      "text/plain": [
       "(3736, 2)"
      ]
     },
     "execution_count": 10,
     "metadata": {},
     "output_type": "execute_result"
    }
   ],
   "source": [
    "df.shape"
   ]
  },
  {
   "cell_type": "code",
   "execution_count": 15,
   "id": "be2d23d1-b5aa-4b5f-a1a8-be2c97508805",
   "metadata": {},
   "outputs": [
    {
     "name": "stdout",
     "output_type": "stream",
     "text": [
      "(2988, 2)\n",
      "(748, 2)\n"
     ]
    }
   ],
   "source": [
    "train_df, test_df = train_test_split(df, test_size=0.2)\n",
    "print(train_df.shape)\n",
    "print(test_df.shape)"
   ]
  },
  {
   "cell_type": "code",
   "execution_count": 19,
   "id": "73ff0474-8986-4702-a702-b556bfd9a7d1",
   "metadata": {},
   "outputs": [],
   "source": [
    "from simplet5 import SimpleT5"
   ]
  },
  {
   "cell_type": "code",
   "execution_count": 20,
   "id": "9efee467-1015-42af-8dca-4e58d2bfc974",
   "metadata": {},
   "outputs": [],
   "source": [
    "model = SimpleT5()\n",
    "model.from_pretrained(model_type=\"t5\",model_name=\"t5-base\")"
   ]
  },
  {
   "cell_type": "code",
   "execution_count": 25,
   "id": "50fffef1-9df0-4d39-9909-9d5f466ccd1c",
   "metadata": {},
   "outputs": [
    {
     "name": "stderr",
     "output_type": "stream",
     "text": [
      "GPU available: False, used: False\n",
      "TPU available: False, using: 0 TPU cores\n",
      "IPU available: False, using: 0 IPUs\n"
     ]
    },
    {
     "ename": "AttributeError",
     "evalue": "'LightningDataModule' object has no attribute '_has_setup_TrainerFn.FITTING'",
     "output_type": "error",
     "traceback": [
      "\u001b[1;31m---------------------------------------------------------------------------\u001b[0m",
      "\u001b[1;31mAttributeError\u001b[0m                            Traceback (most recent call last)",
      "Cell \u001b[1;32mIn[25], line 1\u001b[0m\n\u001b[1;32m----> 1\u001b[0m model\u001b[38;5;241m.\u001b[39mtrain(train_df\u001b[38;5;241m=\u001b[39mtrain_df,\n\u001b[0;32m      2\u001b[0m             eval_df\u001b[38;5;241m=\u001b[39mtest_df, \n\u001b[0;32m      3\u001b[0m             source_max_token_len \u001b[38;5;241m=\u001b[39m \u001b[38;5;241m512\u001b[39m, \n\u001b[0;32m      4\u001b[0m             target_max_token_len \u001b[38;5;241m=\u001b[39m \u001b[38;5;241m128\u001b[39m,\n\u001b[0;32m      5\u001b[0m             batch_size \u001b[38;5;241m=\u001b[39m \u001b[38;5;241m8\u001b[39m,\n\u001b[0;32m      6\u001b[0m             max_epochs \u001b[38;5;241m=\u001b[39m \u001b[38;5;241m5\u001b[39m,\n\u001b[0;32m      7\u001b[0m             use_gpu \u001b[38;5;241m=\u001b[39m \u001b[38;5;28;01mFalse\u001b[39;00m,\n\u001b[0;32m      8\u001b[0m             outputdir \u001b[38;5;241m=\u001b[39m \u001b[38;5;124m\"\u001b[39m\u001b[38;5;124mt5-models\u001b[39m\u001b[38;5;124m\"\u001b[39m,\n\u001b[0;32m      9\u001b[0m             early_stopping_patience_epochs \u001b[38;5;241m=\u001b[39m \u001b[38;5;241m0\u001b[39m,\n\u001b[0;32m     10\u001b[0m             precision \u001b[38;5;241m=\u001b[39m \u001b[38;5;241m32\u001b[39m)\n",
      "File \u001b[1;32m~\\anaconda3\\Lib\\site-packages\\simplet5\\simplet5.py:395\u001b[0m, in \u001b[0;36mSimpleT5.train\u001b[1;34m(self, train_df, eval_df, source_max_token_len, target_max_token_len, batch_size, max_epochs, use_gpu, outputdir, early_stopping_patience_epochs, precision, logger, dataloader_num_workers, save_only_last_epoch)\u001b[0m\n\u001b[0;32m    385\u001b[0m trainer \u001b[38;5;241m=\u001b[39m pl\u001b[38;5;241m.\u001b[39mTrainer(\n\u001b[0;32m    386\u001b[0m     logger\u001b[38;5;241m=\u001b[39mloggers,\n\u001b[0;32m    387\u001b[0m     callbacks\u001b[38;5;241m=\u001b[39mcallbacks,\n\u001b[1;32m   (...)\u001b[0m\n\u001b[0;32m    391\u001b[0m     log_every_n_steps\u001b[38;5;241m=\u001b[39m\u001b[38;5;241m1\u001b[39m,\n\u001b[0;32m    392\u001b[0m )\n\u001b[0;32m    394\u001b[0m \u001b[38;5;66;03m# fit trainer\u001b[39;00m\n\u001b[1;32m--> 395\u001b[0m trainer\u001b[38;5;241m.\u001b[39mfit(\u001b[38;5;28mself\u001b[39m\u001b[38;5;241m.\u001b[39mT5Model, \u001b[38;5;28mself\u001b[39m\u001b[38;5;241m.\u001b[39mdata_module)\n",
      "File \u001b[1;32m~\\anaconda3\\Lib\\site-packages\\pytorch_lightning\\trainer\\trainer.py:740\u001b[0m, in \u001b[0;36mTrainer.fit\u001b[1;34m(self, model, train_dataloaders, val_dataloaders, datamodule, train_dataloader, ckpt_path)\u001b[0m\n\u001b[0;32m    735\u001b[0m     rank_zero_deprecation(\n\u001b[0;32m    736\u001b[0m         \u001b[38;5;124m\"\u001b[39m\u001b[38;5;124m`trainer.fit(train_dataloader)` is deprecated in v1.4 and will be removed in v1.6.\u001b[39m\u001b[38;5;124m\"\u001b[39m\n\u001b[0;32m    737\u001b[0m         \u001b[38;5;124m\"\u001b[39m\u001b[38;5;124m Use `trainer.fit(train_dataloaders)` instead. HINT: added \u001b[39m\u001b[38;5;124m'\u001b[39m\u001b[38;5;124ms\u001b[39m\u001b[38;5;124m'\u001b[39m\u001b[38;5;124m\"\u001b[39m\n\u001b[0;32m    738\u001b[0m     )\n\u001b[0;32m    739\u001b[0m     train_dataloaders \u001b[38;5;241m=\u001b[39m train_dataloader\n\u001b[1;32m--> 740\u001b[0m \u001b[38;5;28mself\u001b[39m\u001b[38;5;241m.\u001b[39m_call_and_handle_interrupt(\n\u001b[0;32m    741\u001b[0m     \u001b[38;5;28mself\u001b[39m\u001b[38;5;241m.\u001b[39m_fit_impl, model, train_dataloaders, val_dataloaders, datamodule, ckpt_path\n\u001b[0;32m    742\u001b[0m )\n",
      "File \u001b[1;32m~\\anaconda3\\Lib\\site-packages\\pytorch_lightning\\trainer\\trainer.py:685\u001b[0m, in \u001b[0;36mTrainer._call_and_handle_interrupt\u001b[1;34m(self, trainer_fn, *args, **kwargs)\u001b[0m\n\u001b[0;32m    675\u001b[0m \u001b[38;5;250m\u001b[39m\u001b[38;5;124mr\u001b[39m\u001b[38;5;124;03m\"\"\"\u001b[39;00m\n\u001b[0;32m    676\u001b[0m \u001b[38;5;124;03mError handling, intended to be used only for main trainer function entry points (fit, validate, test, predict)\u001b[39;00m\n\u001b[0;32m    677\u001b[0m \u001b[38;5;124;03mas all errors should funnel through them\u001b[39;00m\n\u001b[1;32m   (...)\u001b[0m\n\u001b[0;32m    682\u001b[0m \u001b[38;5;124;03m    **kwargs: keyword arguments to be passed to `trainer_fn`\u001b[39;00m\n\u001b[0;32m    683\u001b[0m \u001b[38;5;124;03m\"\"\"\u001b[39;00m\n\u001b[0;32m    684\u001b[0m \u001b[38;5;28;01mtry\u001b[39;00m:\n\u001b[1;32m--> 685\u001b[0m     \u001b[38;5;28;01mreturn\u001b[39;00m trainer_fn(\u001b[38;5;241m*\u001b[39margs, \u001b[38;5;241m*\u001b[39m\u001b[38;5;241m*\u001b[39mkwargs)\n\u001b[0;32m    686\u001b[0m \u001b[38;5;66;03m# TODO: treat KeyboardInterrupt as BaseException (delete the code below) in v1.7\u001b[39;00m\n\u001b[0;32m    687\u001b[0m \u001b[38;5;28;01mexcept\u001b[39;00m \u001b[38;5;167;01mKeyboardInterrupt\u001b[39;00m \u001b[38;5;28;01mas\u001b[39;00m exception:\n",
      "File \u001b[1;32m~\\anaconda3\\Lib\\site-packages\\pytorch_lightning\\trainer\\trainer.py:777\u001b[0m, in \u001b[0;36mTrainer._fit_impl\u001b[1;34m(self, model, train_dataloaders, val_dataloaders, datamodule, ckpt_path)\u001b[0m\n\u001b[0;32m    775\u001b[0m \u001b[38;5;66;03m# TODO: ckpt_path only in v1.7\u001b[39;00m\n\u001b[0;32m    776\u001b[0m ckpt_path \u001b[38;5;241m=\u001b[39m ckpt_path \u001b[38;5;129;01mor\u001b[39;00m \u001b[38;5;28mself\u001b[39m\u001b[38;5;241m.\u001b[39mresume_from_checkpoint\n\u001b[1;32m--> 777\u001b[0m \u001b[38;5;28mself\u001b[39m\u001b[38;5;241m.\u001b[39m_run(model, ckpt_path\u001b[38;5;241m=\u001b[39mckpt_path)\n\u001b[0;32m    779\u001b[0m \u001b[38;5;28;01massert\u001b[39;00m \u001b[38;5;28mself\u001b[39m\u001b[38;5;241m.\u001b[39mstate\u001b[38;5;241m.\u001b[39mstopped\n\u001b[0;32m    780\u001b[0m \u001b[38;5;28mself\u001b[39m\u001b[38;5;241m.\u001b[39mtraining \u001b[38;5;241m=\u001b[39m \u001b[38;5;28;01mFalse\u001b[39;00m\n",
      "File \u001b[1;32m~\\anaconda3\\Lib\\site-packages\\pytorch_lightning\\trainer\\trainer.py:1138\u001b[0m, in \u001b[0;36mTrainer._run\u001b[1;34m(self, model, ckpt_path)\u001b[0m\n\u001b[0;32m   1136\u001b[0m \u001b[38;5;28mself\u001b[39m\u001b[38;5;241m.\u001b[39mcall_hook(\u001b[38;5;124m\"\u001b[39m\u001b[38;5;124mon_before_accelerator_backend_setup\u001b[39m\u001b[38;5;124m\"\u001b[39m)\n\u001b[0;32m   1137\u001b[0m \u001b[38;5;28mself\u001b[39m\u001b[38;5;241m.\u001b[39maccelerator\u001b[38;5;241m.\u001b[39msetup_environment()\n\u001b[1;32m-> 1138\u001b[0m \u001b[38;5;28mself\u001b[39m\u001b[38;5;241m.\u001b[39m_call_setup_hook()  \u001b[38;5;66;03m# allow user to setup lightning_module in accelerator environment\u001b[39;00m\n\u001b[0;32m   1140\u001b[0m \u001b[38;5;66;03m# check if we should delay restoring checkpoint till later\u001b[39;00m\n\u001b[0;32m   1141\u001b[0m \u001b[38;5;28;01mif\u001b[39;00m \u001b[38;5;129;01mnot\u001b[39;00m \u001b[38;5;28mself\u001b[39m\u001b[38;5;241m.\u001b[39mtraining_type_plugin\u001b[38;5;241m.\u001b[39mrestore_checkpoint_after_pre_dispatch:\n",
      "File \u001b[1;32m~\\anaconda3\\Lib\\site-packages\\pytorch_lightning\\trainer\\trainer.py:1438\u001b[0m, in \u001b[0;36mTrainer._call_setup_hook\u001b[1;34m(self)\u001b[0m\n\u001b[0;32m   1435\u001b[0m \u001b[38;5;28mself\u001b[39m\u001b[38;5;241m.\u001b[39mtraining_type_plugin\u001b[38;5;241m.\u001b[39mbarrier(\u001b[38;5;124m\"\u001b[39m\u001b[38;5;124mpre_setup\u001b[39m\u001b[38;5;124m\"\u001b[39m)\n\u001b[0;32m   1437\u001b[0m \u001b[38;5;28;01mif\u001b[39;00m \u001b[38;5;28mself\u001b[39m\u001b[38;5;241m.\u001b[39mdatamodule \u001b[38;5;129;01mis\u001b[39;00m \u001b[38;5;129;01mnot\u001b[39;00m \u001b[38;5;28;01mNone\u001b[39;00m:\n\u001b[1;32m-> 1438\u001b[0m     \u001b[38;5;28mself\u001b[39m\u001b[38;5;241m.\u001b[39mdatamodule\u001b[38;5;241m.\u001b[39msetup(stage\u001b[38;5;241m=\u001b[39mfn)\n\u001b[0;32m   1439\u001b[0m \u001b[38;5;28mself\u001b[39m\u001b[38;5;241m.\u001b[39mcall_hook(\u001b[38;5;124m\"\u001b[39m\u001b[38;5;124msetup\u001b[39m\u001b[38;5;124m\"\u001b[39m, stage\u001b[38;5;241m=\u001b[39mfn)\n\u001b[0;32m   1441\u001b[0m \u001b[38;5;28mself\u001b[39m\u001b[38;5;241m.\u001b[39mtraining_type_plugin\u001b[38;5;241m.\u001b[39mbarrier(\u001b[38;5;124m\"\u001b[39m\u001b[38;5;124mpost_setup\u001b[39m\u001b[38;5;124m\"\u001b[39m)\n",
      "File \u001b[1;32m~\\anaconda3\\Lib\\site-packages\\pytorch_lightning\\core\\datamodule.py:461\u001b[0m, in \u001b[0;36mLightningDataModule._track_data_hook_calls.<locals>.wrapped_fn\u001b[1;34m(*args, **kwargs)\u001b[0m\n\u001b[0;32m    459\u001b[0m     \u001b[38;5;28;01melse\u001b[39;00m:\n\u001b[0;32m    460\u001b[0m         attr \u001b[38;5;241m=\u001b[39m \u001b[38;5;124mf\u001b[39m\u001b[38;5;124m\"\u001b[39m\u001b[38;5;124m_has_\u001b[39m\u001b[38;5;132;01m{\u001b[39;00mname\u001b[38;5;132;01m}\u001b[39;00m\u001b[38;5;124m_\u001b[39m\u001b[38;5;132;01m{\u001b[39;00mstage\u001b[38;5;132;01m}\u001b[39;00m\u001b[38;5;124m\"\u001b[39m\n\u001b[1;32m--> 461\u001b[0m         has_run \u001b[38;5;241m=\u001b[39m \u001b[38;5;28mgetattr\u001b[39m(obj, attr)\n\u001b[0;32m    462\u001b[0m         \u001b[38;5;28msetattr\u001b[39m(obj, attr, \u001b[38;5;28;01mTrue\u001b[39;00m)\n\u001b[0;32m    464\u001b[0m \u001b[38;5;28;01melif\u001b[39;00m name \u001b[38;5;241m==\u001b[39m \u001b[38;5;124m\"\u001b[39m\u001b[38;5;124mprepare_data\u001b[39m\u001b[38;5;124m\"\u001b[39m:\n",
      "\u001b[1;31mAttributeError\u001b[0m: 'LightningDataModule' object has no attribute '_has_setup_TrainerFn.FITTING'"
     ]
    }
   ],
   "source": [
    "model.train(train_df=train_df,\n",
    "            eval_df=test_df, \n",
    "            source_max_token_len = 512, \n",
    "            target_max_token_len = 128,\n",
    "            batch_size = 8,\n",
    "            max_epochs = 5,\n",
    "            use_gpu = False,\n",
    "            outputdir = \"t5-models\",\n",
    "            early_stopping_patience_epochs = 0,\n",
    "            precision = 32)"
   ]
  },
  {
   "cell_type": "code",
   "execution_count": null,
   "id": "5caedd47-7ec5-4ea0-8658-1c0176371300",
   "metadata": {},
   "outputs": [],
   "source": []
  }
 ],
 "metadata": {
  "kernelspec": {
   "display_name": "Python 3 (ipykernel)",
   "language": "python",
   "name": "python3"
  },
  "language_info": {
   "codemirror_mode": {
    "name": "ipython",
    "version": 3
   },
   "file_extension": ".py",
   "mimetype": "text/x-python",
   "name": "python",
   "nbconvert_exporter": "python",
   "pygments_lexer": "ipython3",
   "version": "3.11.5"
  }
 },
 "nbformat": 4,
 "nbformat_minor": 5
}
