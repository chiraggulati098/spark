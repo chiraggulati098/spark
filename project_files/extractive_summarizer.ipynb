{
 "cells": [
  {
   "cell_type": "markdown",
   "id": "0be4f525-bfde-4094-aca6-96ea2398a48d",
   "metadata": {},
   "source": [
    "# Extractive Summarizer"
   ]
  },
  {
   "cell_type": "code",
   "execution_count": 1,
   "id": "b2d05026-c06c-457b-b85c-222b34d617ba",
   "metadata": {},
   "outputs": [],
   "source": [
    "import nltk\n",
    "from nltk.corpus import stopwords\n",
    "from nltk.cluster.util import cosine_distance\n",
    "import numpy as np\n",
    "import networkx as nx"
   ]
  },
  {
   "cell_type": "code",
   "execution_count": 2,
   "id": "22989867-1040-4428-917b-9440e4fbb08c",
   "metadata": {},
   "outputs": [],
   "source": [
    "def read_func(filename):\n",
    "    '''\n",
    "    Takes the whole text file as input\n",
    "    Returns list of list of words of every sentence\n",
    "    '''\n",
    "    file = open(filename,'r',encoding='utf-8') # open file\n",
    "    filedata = file.readlines() # real all lines\n",
    "    para = ' '.join(filedata) # join all lines together\n",
    "    lines = nltk.sent_tokenize(para) # every line is different elements in list\n",
    "    sentences = [] # nested list, sentences, containing list of words\n",
    "    for line in lines: # iterating in lines\n",
    "        sentences.append(line.split(\" \")) # splitting lines into words to add into sentences\n",
    "    for line in sentences: # iterating lines again to remove fullstop\n",
    "        line[len(line)-1] = line[len(line)-1][:(len(line[len(line)-1])-1)] # removed full stops\n",
    "    return sentences"
   ]
  },
  {
   "cell_type": "code",
   "execution_count": 3,
   "id": "16e4e14f-01c0-4620-848c-90dc81797300",
   "metadata": {},
   "outputs": [],
   "source": [
    "def sentence_similarity(sent1, sent2, stopwords=[]):\n",
    "    '''\n",
    "    Takes 2 sentences at a time as input and also takes the ntlk stopwords\n",
    "    Returns cosine similarity between the sentence vectors (1 - distance = similarity)\n",
    "    '''\n",
    "    sent1 = [word.lower() for word in sent1 if word.lower() not in stopwords] # converted to lower case and removed stop words\n",
    "    sent2 = [word.lower() for word in sent2 if word.lower() not in stopwords]\n",
    "\n",
    "    all_words = list(set(sent1 + sent2)) # get list of all words in the 2 sentences\n",
    "\n",
    "    vector1 = [0] * len(all_words)\n",
    "    vector2 = [0] * len(all_words)\n",
    "\n",
    "    # build vector for first sentence\n",
    "    for word in sent1:\n",
    "        vector1[all_words.index(word)] += 1\n",
    "\n",
    "    # build vector for second sentence\n",
    "    for word in sent2:\n",
    "        vector2[all_words.index(word)] += 1\n",
    "    \n",
    "    return 1 - cosine_distance(vector1, vector2)"
   ]
  },
  {
   "cell_type": "code",
   "execution_count": 4,
   "id": "746013f5-f7fe-4c35-82f9-4d7a65fc0f0a",
   "metadata": {},
   "outputs": [],
   "source": [
    "def build_similarity_matrix(sentences, stopwords = []):\n",
    "    '''\n",
    "    Takes sentences and stopwords as input\n",
    "    Makes a similarity matrix using sentence_similarity function\n",
    "    Returns the similarity matrix\n",
    "    '''\n",
    "    similarity_matrix = np.zeros((len(sentences),len(sentences))) # Creates empty 2D matrix\n",
    "\n",
    "    for index_1 in range(len(sentences)):\n",
    "        for index_2 in range(len(sentences)):\n",
    "            if index_1 == index_2: # ignore diagonal terms (where sentences are same)\n",
    "                continue\n",
    "            similarity_matrix[index_1][index_2] = sentence_similarity(sentences[index_1], sentences[index_2], stopwords)\n",
    "\n",
    "    return similarity_matrix"
   ]
  },
  {
   "cell_type": "code",
   "execution_count": 5,
   "id": "f5a608a8-12ab-4496-aa70-de9fcdc5a815",
   "metadata": {},
   "outputs": [],
   "source": [
    "def generate_summary(file_name, num_of_lines = 5):\n",
    "    stop_words = stopwords.words('english')\n",
    "    summarize_text = []\n",
    "\n",
    "    # reads file and returns list of list of words of a sentence\n",
    "    sentences = read_func(file_name)\n",
    "\n",
    "    # builds a 2d matrix of cosine similarity between all sentences\n",
    "    similarity_matrix = build_similarity_matrix(sentences,stop_words)\n",
    "\n",
    "    sentence_similarity_graph = nx.from_numpy_array(similarity_matrix)\n",
    "    scores = nx.pagerank(sentence_similarity_graph)\n",
    "\n",
    "    ranked_sentence = sorted(((scores[i],s) for i,s in enumerate(sentences)), reverse=True)    \n",
    "\n",
    "    for i in range(num_of_lines):\n",
    "        summarize_text.append(\" \".join(ranked_sentence[i][1]))\n",
    "\n",
    "    summarize_text.append('')\n",
    "\n",
    "    print('Summarized Text:')\n",
    "    summary = \". \".join(summarize_text)\n",
    "    print(summary)"
   ]
  },
  {
   "cell_type": "code",
   "execution_count": 6,
   "id": "a388a431-0dea-4e23-a34a-534e1143a60d",
   "metadata": {},
   "outputs": [
    {
     "name": "stdout",
     "output_type": "stream",
     "text": [
      "Summarized Text:\n",
      "Ashwin said the news of Hemil’s death reached them on February 23. “We humbly request our government to talk to the Russian authorities and get the body of my son to his home town Surat. He left for Russia on December 14, 2023 and remained in contact with us regularly,” said his father. A family source said Hemil left studies after Class 12 and started a small embroidery business with his cousins. \n"
     ]
    }
   ],
   "source": [
    "generate_summary('sample_text_1.txt',4)"
   ]
  },
  {
   "cell_type": "code",
   "execution_count": 7,
   "id": "4ef76508-a703-4178-bffa-dc1d326da5e5",
   "metadata": {},
   "outputs": [
    {
     "name": "stdout",
     "output_type": "stream",
     "text": [
      "Summarized Text:\n",
      "Also, you would be surprised... to my mind the BJP is going to be No 1 in Bengal,\" Mr Kishor said, flagging states in each of which the party has lost the most recent Assembly election. Mr Kishor - who has guided the Congress, the Trinamool, and the Aam Aadmi Party to wins over the Prime Minister's BJP - repeated his warnings of the past - that the ruling party is not invincible. Less than two weeks before the general election, poll strategist Prashant Kishor sounded a red alert for the Congress and INDIA opposition bloc, warning of improved performances - seats + vote share - by Prime Minister Narendra Modi's Bharatiya Janata Party across six eastern and southern states. Three of these six states - Bengal, Kerala, and Tamil Nadu - will vote by 2026. \n"
     ]
    }
   ],
   "source": [
    "generate_summary('sample_text_2.txt',4)"
   ]
  },
  {
   "cell_type": "code",
   "execution_count": null,
   "id": "301f963e-4c09-4fbc-bfd3-7a1540c33de1",
   "metadata": {},
   "outputs": [],
   "source": []
  }
 ],
 "metadata": {
  "kernelspec": {
   "display_name": "Python 3 (ipykernel)",
   "language": "python",
   "name": "python3"
  },
  "language_info": {
   "codemirror_mode": {
    "name": "ipython",
    "version": 3
   },
   "file_extension": ".py",
   "mimetype": "text/x-python",
   "name": "python",
   "nbconvert_exporter": "python",
   "pygments_lexer": "ipython3",
   "version": "3.11.5"
  }
 },
 "nbformat": 4,
 "nbformat_minor": 5
}
