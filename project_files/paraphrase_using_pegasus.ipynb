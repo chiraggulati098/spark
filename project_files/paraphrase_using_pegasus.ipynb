{
 "cells": [
  {
   "cell_type": "markdown",
   "id": "e0b30f4f-979b-404f-8f7e-8a8441b2bfdf",
   "metadata": {},
   "source": [
    "### PEGASUS Stands for:\n",
    "##### P - Pre-training with\n",
    "##### E - Extracted\n",
    "##### G - Gap-sentences for\n",
    "##### A - Abstractive\n",
    "##### S - SUmmarization\n",
    "##### S - Sequence-to-sequence models "
   ]
  },
  {
   "cell_type": "code",
   "execution_count": 8,
   "id": "5e1f5eeb-dee5-4625-94aa-19b652bfa6e2",
   "metadata": {},
   "outputs": [],
   "source": [
    "import warnings\n",
    "warnings.filterwarnings(\"ignore\")"
   ]
  },
  {
   "cell_type": "code",
   "execution_count": 1,
   "id": "c3d86503-7b16-4dff-927e-22266322de69",
   "metadata": {
    "scrolled": true
   },
   "outputs": [
    {
     "name": "stdout",
     "output_type": "stream",
     "text": [
      "Collecting sentence-splitter\n",
      "  Obtaining dependency information for sentence-splitter from https://files.pythonhosted.org/packages/4a/ae/3bd609c760d57849d7ddf223762f1881f3c4df6467f4eadb3a33652b7e0d/sentence_splitter-1.4-py2.py3-none-any.whl.metadata\n",
      "  Downloading sentence_splitter-1.4-py2.py3-none-any.whl.metadata (2.8 kB)\n",
      "Requirement already satisfied: regex>=2017.12.12 in c:\\users\\chira\\anaconda3\\lib\\site-packages (from sentence-splitter) (2023.10.3)\n",
      "Downloading sentence_splitter-1.4-py2.py3-none-any.whl (44 kB)\n",
      "   ---------------------------------------- 0.0/45.0 kB ? eta -:--:--\n",
      "   --------- ------------------------------ 10.2/45.0 kB ? eta -:--:--\n",
      "   ------------------------------------ --- 41.0/45.0 kB 653.6 kB/s eta 0:00:01\n",
      "   ---------------------------------------- 45.0/45.0 kB 560.6 kB/s eta 0:00:00\n",
      "Installing collected packages: sentence-splitter\n",
      "Successfully installed sentence-splitter-1.4\n"
     ]
    }
   ],
   "source": [
    "! pip install sentence-splitter"
   ]
  },
  {
   "cell_type": "code",
   "execution_count": 2,
   "id": "1203b58a-fbe3-41e5-b6a6-77e37dfe0de7",
   "metadata": {
    "scrolled": true
   },
   "outputs": [
    {
     "name": "stdout",
     "output_type": "stream",
     "text": [
      "Requirement already satisfied: transformers in c:\\users\\chira\\anaconda3\\lib\\site-packages (4.40.2)\n",
      "Requirement already satisfied: filelock in c:\\users\\chira\\anaconda3\\lib\\site-packages (from transformers) (3.13.1)\n",
      "Requirement already satisfied: huggingface-hub<1.0,>=0.19.3 in c:\\users\\chira\\anaconda3\\lib\\site-packages (from transformers) (0.22.2)\n",
      "Requirement already satisfied: numpy>=1.17 in c:\\users\\chira\\anaconda3\\lib\\site-packages (from transformers) (1.26.3)\n",
      "Requirement already satisfied: packaging>=20.0 in c:\\users\\chira\\anaconda3\\lib\\site-packages (from transformers) (23.1)\n",
      "Requirement already satisfied: pyyaml>=5.1 in c:\\users\\chira\\anaconda3\\lib\\site-packages (from transformers) (6.0.1)\n",
      "Requirement already satisfied: regex!=2019.12.17 in c:\\users\\chira\\anaconda3\\lib\\site-packages (from transformers) (2023.10.3)\n",
      "Requirement already satisfied: requests in c:\\users\\chira\\anaconda3\\lib\\site-packages (from transformers) (2.31.0)\n",
      "Requirement already satisfied: tokenizers<0.20,>=0.19 in c:\\users\\chira\\anaconda3\\lib\\site-packages (from transformers) (0.19.1)\n",
      "Requirement already satisfied: safetensors>=0.4.1 in c:\\users\\chira\\anaconda3\\lib\\site-packages (from transformers) (0.4.3)\n",
      "Requirement already satisfied: tqdm>=4.27 in c:\\users\\chira\\anaconda3\\lib\\site-packages (from transformers) (4.65.0)\n",
      "Requirement already satisfied: fsspec>=2023.5.0 in c:\\users\\chira\\anaconda3\\lib\\site-packages (from huggingface-hub<1.0,>=0.19.3->transformers) (2023.10.0)\n",
      "Requirement already satisfied: typing-extensions>=3.7.4.3 in c:\\users\\chira\\anaconda3\\lib\\site-packages (from huggingface-hub<1.0,>=0.19.3->transformers) (4.9.0)\n",
      "Requirement already satisfied: colorama in c:\\users\\chira\\anaconda3\\lib\\site-packages (from tqdm>=4.27->transformers) (0.4.6)\n",
      "Requirement already satisfied: charset-normalizer<4,>=2 in c:\\users\\chira\\anaconda3\\lib\\site-packages (from requests->transformers) (2.0.4)\n",
      "Requirement already satisfied: idna<4,>=2.5 in c:\\users\\chira\\anaconda3\\lib\\site-packages (from requests->transformers) (3.4)\n",
      "Requirement already satisfied: urllib3<3,>=1.21.1 in c:\\users\\chira\\anaconda3\\lib\\site-packages (from requests->transformers) (2.0.7)\n",
      "Requirement already satisfied: certifi>=2017.4.17 in c:\\users\\chira\\anaconda3\\lib\\site-packages (from requests->transformers) (2024.2.2)\n"
     ]
    }
   ],
   "source": [
    "! pip install transformers"
   ]
  },
  {
   "cell_type": "code",
   "execution_count": 3,
   "id": "cfec80ec-aebb-4892-86d5-5d53d65d3949",
   "metadata": {},
   "outputs": [
    {
     "name": "stdout",
     "output_type": "stream",
     "text": [
      "Requirement already satisfied: SentencePiece in c:\\users\\chira\\anaconda3\\lib\\site-packages (0.2.0)\n"
     ]
    }
   ],
   "source": [
    "! pip install SentencePiece"
   ]
  },
  {
   "cell_type": "code",
   "execution_count": 4,
   "id": "1bd03b41-6790-4220-83f1-007ffae2d1ac",
   "metadata": {},
   "outputs": [
    {
     "data": {
      "application/vnd.jupyter.widget-view+json": {
       "model_id": "7bf9cdc1f4174938af5fcd083157d76f",
       "version_major": 2,
       "version_minor": 0
      },
      "text/plain": [
       "tokenizer_config.json:   0%|          | 0.00/86.0 [00:00<?, ?B/s]"
      ]
     },
     "metadata": {},
     "output_type": "display_data"
    },
    {
     "name": "stderr",
     "output_type": "stream",
     "text": [
      "C:\\Users\\chira\\anaconda3\\Lib\\site-packages\\huggingface_hub\\file_download.py:148: UserWarning: `huggingface_hub` cache-system uses symlinks by default to efficiently store duplicated files but your machine does not support them in C:\\Users\\chira\\.cache\\huggingface\\hub\\models--tuner007--pegasus_paraphrase. Caching files will still work but in a degraded version that might require more space on your disk. This warning can be disabled by setting the `HF_HUB_DISABLE_SYMLINKS_WARNING` environment variable. For more details, see https://huggingface.co/docs/huggingface_hub/how-to-cache#limitations.\n",
      "To support symlinks on Windows, you either need to activate Developer Mode or to run Python as an administrator. In order to see activate developer mode, see this article: https://docs.microsoft.com/en-us/windows/apps/get-started/enable-your-device-for-development\n",
      "  warnings.warn(message)\n"
     ]
    },
    {
     "data": {
      "application/vnd.jupyter.widget-view+json": {
       "model_id": "e885d8e9e3b741c49319c3c1a4a85104",
       "version_major": 2,
       "version_minor": 0
      },
      "text/plain": [
       "spiece.model:   0%|          | 0.00/1.91M [00:00<?, ?B/s]"
      ]
     },
     "metadata": {},
     "output_type": "display_data"
    },
    {
     "data": {
      "application/vnd.jupyter.widget-view+json": {
       "model_id": "25bf9e9bd9c34bacb997bc3ae437d3ac",
       "version_major": 2,
       "version_minor": 0
      },
      "text/plain": [
       "special_tokens_map.json:   0%|          | 0.00/65.0 [00:00<?, ?B/s]"
      ]
     },
     "metadata": {},
     "output_type": "display_data"
    },
    {
     "data": {
      "application/vnd.jupyter.widget-view+json": {
       "model_id": "3532eeac3cf64b6c8a13cafa34713471",
       "version_major": 2,
       "version_minor": 0
      },
      "text/plain": [
       "config.json:   0%|          | 0.00/1.14k [00:00<?, ?B/s]"
      ]
     },
     "metadata": {},
     "output_type": "display_data"
    },
    {
     "data": {
      "application/vnd.jupyter.widget-view+json": {
       "model_id": "9c78dce4863348cd89b699bd8e47eb37",
       "version_major": 2,
       "version_minor": 0
      },
      "text/plain": [
       "pytorch_model.bin:   0%|          | 0.00/2.28G [00:00<?, ?B/s]"
      ]
     },
     "metadata": {},
     "output_type": "display_data"
    },
    {
     "name": "stderr",
     "output_type": "stream",
     "text": [
      "Some weights of PegasusForConditionalGeneration were not initialized from the model checkpoint at tuner007/pegasus_paraphrase and are newly initialized: ['model.decoder.embed_positions.weight', 'model.encoder.embed_positions.weight']\n",
      "You should probably TRAIN this model on a down-stream task to be able to use it for predictions and inference.\n"
     ]
    }
   ],
   "source": [
    "import torch\n",
    "from transformers import PegasusForConditionalGeneration, PegasusTokenizer\n",
    "\n",
    "model_name = 'tuner007/pegasus_paraphrase'\n",
    "torch_device = 'cuda' if torch.cuda.is_available() else 'cpu'\n",
    "tokenizer = PegasusTokenizer.from_pretrained(model_name)\n",
    "model = PegasusForConditionalGeneration.from_pretrained(model_name).to(torch_device)\n",
    "\n",
    "def get_response(input_text,num_return_sequences):\n",
    "  batch = tokenizer.prepare_seq2seq_batch([input_text],truncation=True,padding='longest',max_length=60, return_tensors=\"pt\").to(torch_device)\n",
    "  translated = model.generate(**batch,max_length=60,num_beams=10, num_return_sequences=num_return_sequences, temperature=1.5)\n",
    "  tgt_text = tokenizer.batch_decode(translated, skip_special_tokens=True)\n",
    "  return tgt_text"
   ]
  },
  {
   "cell_type": "code",
   "execution_count": 16,
   "id": "f71e0562-152c-495d-b7c7-6b43f3a0f290",
   "metadata": {},
   "outputs": [],
   "source": [
    "text = \"Today I will make a website that allows user to summarize, paraphrase and translate their text\""
   ]
  },
  {
   "cell_type": "code",
   "execution_count": 17,
   "id": "01d146a7-7702-4d80-afc6-02f76a6d1b15",
   "metadata": {},
   "outputs": [
    {
     "data": {
      "text/plain": [
       "['A website will allow users to summarize, paraphrase and translate their text.',\n",
       " 'I will make a website today that will allow users to summarize, paraphrase and translate their text.',\n",
       " 'I will make a website today that will allow users to summarize and translate their text.',\n",
       " 'I will make a website today that allows users to summarize, paraphrase and translate their text.',\n",
       " 'I will make a website today that allows users to summarize and translate their text.']"
      ]
     },
     "execution_count": 17,
     "metadata": {},
     "output_type": "execute_result"
    }
   ],
   "source": [
    "get_response(text, 5)"
   ]
  },
  {
   "cell_type": "code",
   "execution_count": 18,
   "id": "d22ea0d7-1f9e-455f-a3d2-6250c71ce8e3",
   "metadata": {},
   "outputs": [],
   "source": [
    "para = \"Virtual reality (VR) technology has rapidly gained traction in the field of education, transforming the way students learn and engage with course materials. VR offers immersive experiences that allow learners to step into realistic simulations, historical settings, or even microscopic worlds, enhancing their understanding and retention of complex concepts.\""
   ]
  },
  {
   "cell_type": "code",
   "execution_count": 19,
   "id": "fa19d499-4e03-4722-9ef5-0ab086c8ec70",
   "metadata": {},
   "outputs": [
    {
     "name": "stdout",
     "output_type": "stream",
     "text": [
      "Virtual reality (VR) technology has rapidly gained traction in the field of education, transforming the way students learn and engage with course materials. VR offers immersive experiences that allow learners to step into realistic simulations, historical settings, or even microscopic worlds, enhancing their understanding and retention of complex concepts.\n"
     ]
    }
   ],
   "source": [
    "print(para)"
   ]
  },
  {
   "cell_type": "code",
   "execution_count": 20,
   "id": "675fbb70-f66c-43f4-8ccb-b5791470540c",
   "metadata": {},
   "outputs": [
    {
     "data": {
      "text/plain": [
       "['Virtual reality (VR) technology has rapidly gained traction in the field of education, transforming the way students learn and engage with course materials.',\n",
       " 'VR offers immersive experiences that allow learners to step into realistic simulations, historical settings, or even microscopic worlds, enhancing their understanding and retention of complex concepts.']"
      ]
     },
     "execution_count": 20,
     "metadata": {},
     "output_type": "execute_result"
    }
   ],
   "source": [
    "# Takes the input paragraph and splits it into a list of sentences\n",
    "from sentence_splitter import SentenceSplitter, split_text_into_sentences\n",
    "\n",
    "splitter = SentenceSplitter(language='en')\n",
    "\n",
    "sentence_list = splitter.split(para)\n",
    "sentence_list"
   ]
  },
  {
   "cell_type": "code",
   "execution_count": 21,
   "id": "06b040b3-fabc-4610-88cd-bcb38f9f7185",
   "metadata": {},
   "outputs": [],
   "source": [
    "# Do a for loop to iterate through the list of sentences and paraphrase each sentence in the iteration\n",
    "paraphrase = []\n",
    "\n",
    "for i in sentence_list:\n",
    "  a = get_response(i,1)\n",
    "  paraphrase.append(a)"
   ]
  },
  {
   "cell_type": "code",
   "execution_count": 22,
   "id": "014d9834-4e5e-4223-b2b7-8d95a1752014",
   "metadata": {},
   "outputs": [
    {
     "data": {
      "text/plain": [
       "['The way students learn and engage with course materials has been transformed by virtual reality technology.',\n",
       " 'Virtual reality allows learners to step into realistic simulations, historical settings, or even microscopic worlds, enhancing their understanding and retention of complex concepts.']"
      ]
     },
     "execution_count": 22,
     "metadata": {},
     "output_type": "execute_result"
    }
   ],
   "source": [
    "paraphrase2 = [' '.join(x) for x in paraphrase]\n",
    "paraphrase2"
   ]
  },
  {
   "cell_type": "code",
   "execution_count": 23,
   "id": "1a1b8383-b1f9-43a0-a6c3-c6f83c2e5c84",
   "metadata": {},
   "outputs": [
    {
     "data": {
      "text/plain": [
       "'The way students learn and engage with course materials has been transformed by virtual reality technology. Virtual reality allows learners to step into realistic simulations, historical settings, or even microscopic worlds, enhancing their understanding and retention of complex concepts.'"
      ]
     },
     "execution_count": 23,
     "metadata": {},
     "output_type": "execute_result"
    }
   ],
   "source": [
    "# Combines the above list into a paragraph\n",
    "paraphrase3 = [' '.join(x for x in paraphrase2) ]\n",
    "paraphrased_text = str(paraphrase3).strip('[]').strip(\"'\")\n",
    "paraphrased_text"
   ]
  },
  {
   "cell_type": "code",
   "execution_count": 27,
   "id": "efaf759f-b762-48d4-bdb1-2f3ab81381ca",
   "metadata": {},
   "outputs": [
    {
     "name": "stdout",
     "output_type": "stream",
     "text": [
      "Original:  Virtual reality (VR) technology has rapidly gained traction in the field of education, transforming the way students learn and engage with course materials. VR offers immersive experiences that allow learners to step into realistic simulations, historical settings, or even microscopic worlds, enhancing their understanding and retention of complex concepts.\n",
      "\n",
      "Paraphrased:  The way students learn and engage with course materials has been transformed by virtual reality technology. Virtual reality allows learners to step into realistic simulations, historical settings, or even microscopic worlds, enhancing their understanding and retention of complex concepts.\n"
     ]
    }
   ],
   "source": [
    "print(\"Original: \",para)\n",
    "print()\n",
    "print(\"Paraphrased: \",paraphrased_text)"
   ]
  },
  {
   "cell_type": "code",
   "execution_count": null,
   "id": "36b3ab1c-f99a-4a93-afb8-a8a111cbf628",
   "metadata": {},
   "outputs": [],
   "source": []
  }
 ],
 "metadata": {
  "kernelspec": {
   "display_name": "Python 3 (ipykernel)",
   "language": "python",
   "name": "python3"
  },
  "language_info": {
   "codemirror_mode": {
    "name": "ipython",
    "version": 3
   },
   "file_extension": ".py",
   "mimetype": "text/x-python",
   "name": "python",
   "nbconvert_exporter": "python",
   "pygments_lexer": "ipython3",
   "version": "3.11.5"
  }
 },
 "nbformat": 4,
 "nbformat_minor": 5
}
